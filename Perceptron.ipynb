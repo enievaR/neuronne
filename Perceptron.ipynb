{
 "cells": [
  {
   "cell_type": "markdown",
   "id": "ee5fd2a4",
   "metadata": {},
   "source": [
    "# Exerice 1"
   ]
  },
  {
   "cell_type": "code",
   "execution_count": 15,
   "id": "490b109b",
   "metadata": {},
   "outputs": [],
   "source": [
    "import numpy as np\n",
    "import matplotlib.pyplot as plt\n",
    "from tqdm import tqdm\n",
    "\n",
    "class ActivationFunction:\n",
    "    def __init__(self, name, alpha=0.01):\n",
    "        self.name = name.lower()\n",
    "        self.alpha = alpha  # Pour Leaky ReLU\n",
    "\n",
    "    def apply(self, z):\n",
    "        if self.name == \"heaviside\":\n",
    "            return np.where(z >= 0, 1, 0)\n",
    "        elif self.name == \"sigmoid\":\n",
    "            return 1 / (1 + np.exp(-z))\n",
    "        elif self.name == \"tanh\":\n",
    "            return np.tanh(z)\n",
    "        elif self.name == \"relu\":\n",
    "            return np.where(z >= 0, z, 0)\n",
    "        elif self.name == \"leaky_relu\":\n",
    "            return np.where(z >= 0, z, self.alpha * z)\n",
    "        else:\n",
    "            raise ValueError(f\"Activation '{self.name}' non reconnue.\")\n",
    "\n",
    "    def derivative(self, z):\n",
    "        if self.name == \"heaviside\":\n",
    "            return np.zeros_like(z)\n",
    "        elif self.name == \"sigmoid\":\n",
    "            sig = self.apply(z)\n",
    "            return sig * (1 - sig)\n",
    "        elif self.name == \"tanh\":\n",
    "            tanh_z = self.apply(z)\n",
    "            return 1 - tanh_z ** 2\n",
    "        elif self.name == \"relu\":\n",
    "            return np.where(z > 0, 1, 0)\n",
    "        elif self.name == \"leaky_relu\":\n",
    "            return np.where(z > 0, 1, self.alpha)\n",
    "        else:\n",
    "            raise ValueError(f\"Dérivée de '{self.name}' non définie.\")\n",
    "        \n",
    "\n",
    "\n"
   ]
  },
  {
   "cell_type": "code",
   "execution_count": 16,
   "id": "d314d115",
   "metadata": {},
   "outputs": [
    {
     "data": {
      "text/plain": [
       "[<matplotlib.lines.Line2D at 0x2d831166760>]"
      ]
     },
     "execution_count": 16,
     "metadata": {},
     "output_type": "execute_result"
    },
    {
     "data": {
      "image/png": "[encoded data removed]",
      "text/plain": [
       "<Figure size 720x432 with 1 Axes>"
      ]
     },
     "metadata": {
      "needs_background": "light"
     },
     "output_type": "display_data"
    }
   ],
   "source": [
    "z = np.array([-5,0,4,3])\n",
    "z = np.linspace(-10, 10, 100)\n",
    "activation = ActivationFunction(\"leaky_relu\", alpha=0.01)\n",
    "derivative = activation.derivative(z)\n",
    "plt.figure(figsize=(10, 6))\n",
    "plt.plot(z, derivative, label='Dérivée de leaky_relu', linestyle='--', color='orange')\n",
    "plt.title('Fonction d\\'activation et sa dérivée')\n",
    "plt.xlabel('z')\n",
    "plt.plot(z, activation.apply(z), label='Sigmoid')\n"
   ]
  },
  {
   "cell_type": "markdown",
   "id": "0868df5f",
   "metadata": {},
   "source": [
    "# Exerice 2\n",
    "\n",
    "\n",
    "- **Pourquoi la fonction de Heaviside pose-t-elle problème pour l'apprentissage par gradient ?**  \n",
    "\n",
    "    La fonction de Heaviside n'est pas différentiable et sa dérivée est nulle presque partout. Cela empêche la propagation du gradient lors de l'entraînement, rendant l'apprentissage impossible avec les méthodes de descente de gradient.\n",
    "\n",
    "- **Dans quels cas utiliser sigmoid vs tanh ?**  \n",
    "\n",
    "    - Sigmoid : Utilisée en sortie pour des probabilités (classification binaire), car elle produit des valeurs entre 0 et 1.  \n",
    "    - Tanh : Préférée dans les couches cachées car elle est centrée en zéro (valeurs entre -1 et 1), ce qui facilite l'apprentissage et la convergence.\n",
    "\n",
    "- **Pourquoi ReLU est-elle si populaire dans les réseaux profonds ?**  \n",
    "    ReLU  est rapide à calculer, et permet d'atténuer le problème du gradient qui disparaît. Elle favorise une convergence plus rapide et permet d'entraîner des réseaux profonds efficacement.\n",
    "\n",
    "- **Quel est l'avantage du leaky ReLU ?**  \n",
    "    Le leaky ReLU permet un petit flux de gradient lorsque l'entrée est négative, ce qui évite le problème des neurones \"morts\" (neurones qui ne s'activent plus jamais) rencontré avec la ReLU standard."
   ]
  },
  {
   "cell_type": "markdown",
   "id": "e26d0a45",
   "metadata": {},
   "source": [
    "# Excerice 3\n",
    "\n",
    "- **Que se passe-t-il si $\\nu$ est trop grand ?**  \n",
    "    - Le perceptron peut osciller autour de la solution optimale sans jamais s’y stabiliser.\n",
    "    - L’apprentissage devient instable, voire diverge si les mises à jour deviennent trop importantes\n",
    "    - Il peut sauter au-dessus de la solution correcte sans jamais l’atteindre.\n",
    "    \n",
    "\n",
    "- **Et s’il est trop petit ?**  \n",
    "    - Les mises à jour sont trop lentes, donc l’apprentissage est très long.\n",
    "    - Le perceptron met beaucoup de temps à converger, ou peut rester bloqué prématurément dans une configuration sous-optimale si le nombre d’itérations est limité.\n",
    "    - Cependant, un petit $\\nu$ assure souvent une meilleure stabilité et une convergence plus fine (mais lente).\n",
    "\n",
    "- **Existe-t-il une valeur idéale de $\\nu$ ?**  \n",
    "    - Il n’existe pas de valeur universelle idéale. Typiquement, on choisit $\\nu$ entre 0.01 et 0.2, mais la meilleure valeur dépend du problème et des données.\n",
    "    - Le perceptron met beaucoup de temps à converger, ou peut rester bloqué prématurément dans une configuration sous-optimale si le nombre d’itérations est limité.\n",
    "    - Cependant, un petit νν assure souvent une meilleure stabilité et une convergence plus fine (mais lente).\n",
    "\n",
    "\n",
    "- **Peut-on faire varier $\\nu$ au cours du temps ?**  \n",
    "    Il n’existe pas de valeur universelle idéale de $\\nu$, car :\n",
    "    - Cela dépend du jeu de données, de leur complexité, de la dimensionnalité, et du nombre d’itérations disponibles.\n",
    "    - En pratique, on choisit une valeur empirique, souvent après des essais (ex : ν∈[0.01,0.1]ν∈[0.01,0.1]).\n",
    "\n",
    "\n",
    "- **Quelle stratégie pouvez-vous imaginer ?**  \n",
    "    On peut réduire $\\nu$ de plus en plu au file des itérations, par exemple en utilisant une stratégie de \"learning rate decay\" (décroissance du taux d'apprentissage). Cela permet de commencer avec un taux d'apprentissage plus élevé pour une convergence rapide, puis de le diminuer pour affiner la solution et éviter les oscillations autour de l'optimum.\n",
    "\n"
   ]
  },
  {
   "cell_type": "markdown",
   "id": "93b734f7",
   "metadata": {},
   "source": [
    "# Exercice 4"
   ]
  },
  {
   "cell_type": "code",
   "execution_count": 17,
   "id": "6ef51c61",
   "metadata": {},
   "outputs": [
    {
     "name": "stderr",
     "output_type": "stream",
     "text": [
      "Entraînement du perceptron: 100%|██████████| 100/100 [00:00<00:00, 50027.48it/s]\n",
      "Entraînement du perceptron: 100%|██████████| 100/100 [00:00<00:00, 50027.48it/s]\n"
     ]
    },
    {
     "name": "stdout",
     "output_type": "stream",
     "text": [
      "Précision du perceptron AND : 1.0\n"
     ]
    },
    {
     "name": "stderr",
     "output_type": "stream",
     "text": [
      "Entraînement du perceptron: 100%|██████████| 100/100 [00:00<00:00, 49967.88it/s]"
     ]
    },
    {
     "name": "stdout",
     "output_type": "stream",
     "text": [
      "Précision du perceptron OR : 1.0\n"
     ]
    },
    {
     "name": "stderr",
     "output_type": "stream",
     "text": [
      "\n"
     ]
    }
   ],
   "source": [
    "class PerceptronSimple:\n",
    "    def __init__(self, learning_rate=0.1):\n",
    "        self.learning_rate = learning_rate\n",
    "        self.weights = None\n",
    "        self.bias = None\n",
    "        \n",
    "    def fit(self, X, y, max_epochs=100):\n",
    "        n_samples, n_features = X.shape\n",
    "        self.weights = np.random.randn(n_features)\n",
    "        self.bias = 0\n",
    "        self.errors_ = []\n",
    "\n",
    "        for e in tqdm(range(max_epochs), desc=\"Entraînement du perceptron\"):\n",
    "            errors = 0\n",
    "            for b in range(n_samples):\n",
    "                x = X[b]\n",
    "                y_true = y[b]\n",
    "                linear_output = np.dot(x, self.weights) + self.bias\n",
    "                y_pred = 1 if linear_output >= 0 else 0 \n",
    "                error = y_true - y_pred\n",
    "                if error != 0:\n",
    "                    update = self.learning_rate * error\n",
    "                    self.weights += update * x\n",
    "                    self.bias += update\n",
    "                    errors += 1\n",
    "            self.errors_.append(errors)\n",
    "        \n",
    "    def predict(self, X):\n",
    "        n_samples, n_features = X.shape\n",
    "        y_pred = np.zeros(n_samples)\n",
    "        for b in range(n_samples):\n",
    "            linear_output = np.dot(X[b], self.weights) + self.bias\n",
    "            y_pred[b] = 1 if linear_output >= 0 else 0\n",
    "        return y_pred\n",
    "        \n",
    "    def score(self, X, y):\n",
    "        predictions = self.predict(X)\n",
    "        return np.mean(predictions == y)\n",
    "\n",
    "X_and = np.array([[0, 0], [0, 1], [1, 0], [1, 1]])\n",
    "y_and = np.array([0, 0, 0, 1])  # -1 pour False, 1 pour True\n",
    "\n",
    "# Données pour la fonction OR\n",
    "X_or = np.array([[0, 0], [0, 1], [1, 0], [1, 1]])\n",
    "y_or = np.array([0, 1, 1, 1])\n",
    "\n",
    "perceptron_and = PerceptronSimple(learning_rate=0.1)\n",
    "perceptron_and.fit(X_and, y_and, max_epochs=100)\n",
    "print(\"Précision du perceptron AND :\", perceptron_and.score(X_and, y_and))\n",
    "perceptron_or = PerceptronSimple(learning_rate=0.1)\n",
    "perceptron_or.fit(X_or, y_or, max_epochs=100)\n",
    "print(\"Précision du perceptron OR :\", perceptron_or.score(X_or, y_or))\n",
    "\n",
    "\n"
   ]
  },
  {
   "cell_type": "markdown",
   "id": "70ed3150",
   "metadata": {},
   "source": [
    "# Exercice 5"
   ]
  },
  {
   "cell_type": "markdown",
   "id": "22ef193e",
   "metadata": {},
   "source": [
    "- **Combien d'époques sont nécessaires pour converger ?**  \n",
    "  \n",
    "Pour des poids initiaux aléatoires [ 2.11147873 -0.9591283 ], il a fallu 11 époques donc 18 échantillons traité pour converger. (Fonction AND)\n"
   ]
  },
  {
   "cell_type": "markdown",
   "id": "e685d986",
   "metadata": {},
   "source": [
    "- **Visualisez la droite de séparation trouvée**"
   ]
  },
  {
   "cell_type": "code",
   "execution_count": 18,
   "id": "6a98a2fe",
   "metadata": {},
   "outputs": [
    {
     "data": {
      "image/png": "[encoded data removed]",
      "text/plain": [
       "<Figure size 432x432 with 1 Axes>"
      ]
     },
     "metadata": {
      "needs_background": "light"
     },
     "output_type": "display_data"
    }
   ],
   "source": [
    "# Visualisation de la frontière de décision du perceptron entraîné sur AND\n",
    "plt.figure(figsize=(6, 6))\n",
    "for i, (x, y) in enumerate(zip(X_and, y_and)):\n",
    "    if y == 1:\n",
    "        plt.scatter(x[0], x[1], color='blue', marker='o', label='1 (True)' if i == 0 else \"\")\n",
    "    else:\n",
    "        plt.scatter(x[0], x[1], color='red', marker='x', label='-1 (False)' if i == 0 else \"\")\n",
    "\n",
    "# Calcul de la frontière de décision : w1*x1 + w2*x2 + b = 0 => x2 = -(w1*x1 + b)/w2\n",
    "w = perceptron_and.weights\n",
    "b = perceptron_and.bias\n",
    "x_vals = np.linspace(-0.2, 1.2, 100) # Génération de valeurs x pour la frontière de décision\n",
    "if w[1] != 0: # Éviter la division par zéro\n",
    "    y_vals = -(w[0] * x_vals + b) / w[1] # Calcul de y en fonction de x\n",
    "    plt.plot(x_vals, y_vals, 'k--', label='Frontière de décision') # Ligne de séparation\n",
    "else: # Si w[1] est zéro, la frontière de décision est verticale\n",
    "    plt.axvline(-b / w[0], color='k', linestyle='--', label='Frontière de décision')\n",
    "\n",
    "plt.xlim(-0.2, 1.2)\n",
    "plt.ylim(-0.2, 1.2)\n",
    "plt.xlabel('x1')\n",
    "plt.ylabel('x2')\n",
    "plt.title('Perceptron - Fonction AND')\n",
    "\n",
    "plt.legend()\n",
    "plt.grid(True)\n",
    "plt.show()"
   ]
  },
  {
   "cell_type": "markdown",
   "id": "c5f175d6",
   "metadata": {},
   "source": [
    "- **Le perceptron converge-t-il toujours vers la même solution ? (ie les mêmes poids)**  \n",
    "  \n",
    "Si on prend des poids identiques, on obtient belle et bien la même solution"
   ]
  },
  {
   "cell_type": "markdown",
   "id": "3007139b",
   "metadata": {},
   "source": []
  },
  {
   "cell_type": "markdown",
   "id": "2d48de9c",
   "metadata": {},
   "source": [
    "# Exercice 6"
   ]
  },
  {
   "cell_type": "code",
   "execution_count": 19,
   "id": "a07a4848",
   "metadata": {},
   "outputs": [
    {
     "name": "stderr",
     "output_type": "stream",
     "text": [
      "Entraînement du perceptron: 100%|██████████| 100/100 [00:00<00:00, 24307.76it/s]\n",
      "\n"
     ]
    },
    {
     "name": "stdout",
     "output_type": "stream",
     "text": [
      "0.0\n"
     ]
    },
    {
     "data": {
      "image/png": "[encoded data removed]",
      "text/plain": [
       "<Figure size 432x432 with 1 Axes>"
      ]
     },
     "metadata": {
      "needs_background": "light"
     },
     "output_type": "display_data"
    }
   ],
   "source": [
    "X_xor = np.array([[0, 0], [0, 1], [1, 0], [1, 1]])\n",
    "y_xor = np.array([-1, 1, 1, -1])\n",
    "\n",
    "perceptron_xor = PerceptronSimple(learning_rate=0.1)\n",
    "perceptron_xor.fit(X_xor, y_xor)\n",
    "print(perceptron_xor.score(X_xor, y_xor))\n",
    "\n",
    "\n",
    "# Visualisation de la frontière de décision du perceptron entraîné sur XOR\n",
    "plt.figure(figsize=(6, 6))\n",
    "for i, (x, y) in enumerate(zip(X_xor, y_xor)):\n",
    "    if y == 1:\n",
    "        plt.scatter(x[0], x[1], color='blue', marker='o', label='1 (True)' if i == 0 else \"\")\n",
    "    else:\n",
    "        plt.scatter(x[0], x[1], color='red', marker='x', label='-1 (False)' if i == 0 else \"\")\n",
    "\n",
    "w = perceptron_xor.weights\n",
    "b = perceptron_xor.bias\n",
    "x_vals = np.linspace(-0.2, 1.2, 100)\n",
    "if w[1] != 0:\n",
    "    y_vals = -(w[0] * x_vals + b) / w[1]\n",
    "    plt.plot(x_vals, y_vals, 'k--', label='Frontière de décision')\n",
    "else:\n",
    "    plt.axvline(-b / w[0], color='k', linestyle='--', label='Frontière de décision')\n",
    "\n",
    "plt.xlim(-0.2, 1.2)\n",
    "plt.ylim(-0.2, 1.2)\n",
    "plt.xlabel('x1')\n",
    "plt.ylabel('x2')\n",
    "plt.title('Perceptron - Fonction XOR')\n",
    "plt.legend()\n",
    "plt.grid(True)\n",
    "plt.show()\n"
   ]
  },
  {
   "cell_type": "markdown",
   "id": "712f0b90",
   "metadata": {},
   "source": [
    "- **Quelles sont vos constatations ?**  \n",
    "  \n",
    "    il n'est pas possible de séparer les classes avec une droite, donc le perceptron ne converge pas.\n",
    "- **Quel lien peut-on faire avec la notion de séparabilité linéaire évoquée plus tôt dans le cours ?**  \n",
    "  \n",
    "    La notion de séparabilité linéaire indique que pour qu'un perceptron converge, les classes doivent être séparables par une droite. Dans ce cas, les classes ne le sont pas, donc le perceptron ne peut pas trouver de solution. Pour résoudre le problème du XOR, il faudrait un réseau de neurones plus complexe avec au moins une couche cachée."
   ]
  },
  {
   "cell_type": "markdown",
   "id": "b5304160",
   "metadata": {},
   "source": [
    "# Exercice 7"
   ]
  },
  {
   "cell_type": "code",
   "execution_count": null,
   "id": "573f28bf",
   "metadata": {},
   "outputs": [
    {
     "name": "stderr",
     "output_type": "stream",
     "text": [
      "Entraînement du perceptron: 100%|██████████| 100/100 [00:00<00:00, 2127.63it/s]\n",
      "\n"
     ]
    },
    {
     "data": {
      "image/png": "[encoded data removed]",
      "text/plain": [
       "<Figure size 576x432 with 1 Axes>"
      ]
     },
     "metadata": {
      "needs_background": "light"
     },
     "output_type": "display_data"
    }
   ],
   "source": [
    "def generer_donnees_separables(n_points=100, noise=0.1):\n",
    "    \"\"\"\n",
    "    Génère deux classes de points linéairement séparables\n",
    "    \"\"\"\n",
    "    # Générer des points pour deux classes\n",
    "    np.random.seed(42) # Pour la reproductibilité\n",
    "    X1 = np.random.randn(n_points // 2, 2)*noise + np.array([2, 2]) # Classe 1\n",
    "    X2 = np.random.randn(n_points // 2, 2)*noise + np.array([-2, -2]) # Classe 2\n",
    "    X = np.vstack((X1, X2)) # Combiner les deux classes (vertical stack)\n",
    "    y1 = np.ones(n_points // 2)  # Classe 1\n",
    "    y2 = np.zeros(n_points // 2)  # Classe 2\n",
    "    y = np.hstack((y1, y2)) # Combiner les étiquettes (horizontal stack)\n",
    "    \n",
    "    # Mélanger les données\n",
    "    indices = np.random.permutation(n_points)\n",
    "    X = X[indices]\n",
    "    y = y[indices]\n",
    "    # Normaliser les données\n",
    "    X = (X - np.mean(X, axis=0)) / np.std(X, axis=0)\n",
    "    return X, y\n",
    "\n",
    "\n",
    "\n",
    "\n",
    "# Fonction du prof\n",
    "def visualiser_donnees(X, y, w=None, b=None, title=\"Données\"):\n",
    "    \"\"\"\n",
    "    Visualise les données et optionnellement la droite de séparation\n",
    "    \"\"\"\n",
    "    plt.figure(figsize=(8, 6))\n",
    "    # Afficher les points\n",
    "    mask_pos = (y == 1)\n",
    "    plt.scatter(X[mask_pos, 0], X[mask_pos, 1], c='blue', marker='+', s=100, label='Classe +1')\n",
    "    plt.scatter(X[~mask_pos, 0], X[~mask_pos, 1], c='red', marker='*', s=100, label='Classe -1')\n",
    "    # Afficher la droite de séparation si fournie\n",
    "    if w is not None and b is not None:\n",
    "        # TODO: Tracer la droite w·x + b = 0\n",
    "        x_vals = np.linspace(X[:, 0].min(), X[:, 0].max(), 100)\n",
    "        y_vals = -(w[0] * x_vals + b) / w[1]\n",
    "        plt.plot(x_vals, y_vals, 'k--', label='Frontière de décision')\n",
    "    plt.xlabel('x1')\n",
    "    plt.ylabel('x2')\n",
    "    plt.legend()\n",
    "    plt.title(title)\n",
    "    plt.grid(True, alpha=0.3)\n",
    "    plt.show()\n",
    "\n",
    "\n",
    "\n",
    "# Générer des données séparables\n",
    "X, y = generer_donnees_separables(n_points=200, noise=2.0)\n",
    "# Entraîner le perceptron sur les données générées\n",
    "perceptron = PerceptronSimple(learning_rate=0.1)\n",
    "perceptron.fit(X, y, max_epochs=100)\n",
    "# Visualiser les données\n",
    "visualiser_donnees(X, y, title=\"Données séparables\", w=perceptron.weights, b=perceptron.bias)"
   ]
  },
  {
   "cell_type": "markdown",
   "id": "559b2a08",
   "metadata": {},
   "source": [
    "# Exerice 8"
   ]
  },
  {
   "cell_type": "code",
   "execution_count": 21,
   "id": "53e923c4",
   "metadata": {},
   "outputs": [
    {
     "name": "stderr",
     "output_type": "stream",
     "text": [
      "Entraînement du perceptron: 100%|██████████| 100/100 [00:00<00:00, 1533.34it/s]"
     ]
    },
    {
     "name": "stdout",
     "output_type": "stream",
     "text": [
      "Taux d'apprentissage: 0.0001, Erreurs: 15\n"
     ]
    },
    {
     "name": "stderr",
     "output_type": "stream",
     "text": [
      "\n"
     ]
    },
    {
     "data": {
      "image/png": "[encoded data removed]",
      "text/plain": [
       "<Figure size 864x576 with 1 Axes>"
      ]
     },
     "metadata": {
      "needs_background": "light"
     },
     "output_type": "display_data"
    }
   ],
   "source": [
    "def analyser_convergence(X, y, learning_rates=[0.0001]):\n",
    "    \"\"\"\n",
    "    Analyse la convergence pour différents taux d'apprentissage\n",
    "    \"\"\"\n",
    "    plt.figure(figsize=(12, 8))\n",
    "    for i, lr in enumerate(learning_rates):\n",
    "        # TODO: Entraîner le perceptron avec ce taux d'apprentissage\n",
    "        perceptron = PerceptronSimple(learning_rate=lr)\n",
    "        errors =perceptron.fit(X, y, max_epochs=100)\n",
    "        # TODO: Enregistrer l'évolution de l'erreur à chaque époque\n",
    "        plt.plot(perceptron.errors_, label=f\"Taux d'apprentissage: {lr}\", linestyle='-', marker='o')\n",
    "        print(f\"Taux d'apprentissage: {lr}, Erreurs: {perceptron.errors_[-1]}\")\n",
    "        # TODO: Tracer les courbes de convergence\n",
    "        pass\n",
    "    plt.xlabel('Époque')\n",
    "    plt.ylabel(\"Nombre d'erreurs\")\n",
    "    plt.title(\"Convergence pour différents taux d'apprentissage\")\n",
    "    plt.legend()\n",
    "    plt.grid(True, alpha=0.3)\n",
    "    plt.show()\n",
    "\n",
    "\n",
    "# Analyser la convergence pour différents taux d'apprentissage\n",
    "X, y = generer_donnees_separables(n_points=200, noise=2.0)\n",
    "analyser_convergence(X, y)\n"
   ]
  },
  {
   "cell_type": "markdown",
   "id": "a390502e",
   "metadata": {},
   "source": [
    "-**Quel comportement observez-vous lorsque le taux d'apprentissage est très petit ?**  \n",
    "\n",
    "Lorsque le taux d'apprentissage est très petit, le perceptron converge lentement vers une solution optimale. Les mises à jour des poids sont minimes, ce qui rend l'apprentissage très long et peut conduire à un blocage dans une configuration sous-optimale. Dnas mon cas on voit que 0.0001 et 0.001 sont idéals, on voit bien qu'il converge vers une solution optimale, mais il faut beaucoup d'itérations pour y arriver.\n",
    "\n",
    "\n",
    "-**Que se passe-t-il lorsque le taux d'apprentissage est trop grand ?**\n",
    "\n",
    "Lorsque le taux d'apprentissage est trop grand, le perceptron oscille autour de la solution optimale sans jamais s'y stabiliser. On peut le voir à partir de 0.1 et plus, où le perceptron oscille sans jamais converger vers une solution optimale.\n",
    "\n",
    "\n",
    "-**Existe-t-il un taux d'apprentissage optimal dans votre cas ?**\n",
    "\n",
    "Oui, dans mon cas, le taux d'apprentissage optimal semble être 0.001, car il permet une convergence rapide et stable vers la solution optimale sans être trop petit\n",
    "\n",
    "\n",
    "-**Comment la structure des données (dispersion, bruit…) peut-elle interagir avec le taux d'apprentissage**\n",
    "\n",
    "Si le bruit est trop grand, la dispersion peut devenir trop importante et les données se mélanger entre elle."
   ]
  },
  {
   "cell_type": "markdown",
   "id": "4bb51ce7",
   "metadata": {},
   "source": [
    "# Exerice 9"
   ]
  },
  {
   "cell_type": "code",
   "execution_count": 28,
   "id": "a69b7cb4",
   "metadata": {},
   "outputs": [],
   "source": [
    "import numpy as np\n",
    "from tqdm import tqdm\n",
    "\n",
    "class PerceptronMultiClasse:\n",
    "    def __init__(self, learning_rate=0.1):\n",
    "        self.learning_rate = learning_rate\n",
    "        self.perceptrons = {}\n",
    "        self.classes = None\n",
    "\n",
    "    def fit(self, X, y, max_epochs=100):\n",
    "        \"\"\"\n",
    "        Entraîne un perceptron par classe (stratégie un-contre-tous)\n",
    "        \"\"\"\n",
    "        self.classes = np.unique(y)\n",
    "\n",
    "        for classe in tqdm(self.classes, desc=\"Entraînement des perceptrons\"):\n",
    "            # TODO: Créer un problème binaire pour cette classe\n",
    "            # Transformer y en problème binaire : classe courante vs toutes les autres\n",
    "            y_binary = np.where(y == classe, 1, 0)\n",
    "            \n",
    "\n",
    "            # TODO: Entraîner un perceptron pour ce problème binaire\n",
    "            perceptron = PerceptronSimple(learning_rate=self.learning_rate)\n",
    "            perceptron.fit(X, y_binary, max_epochs)\n",
    "\n",
    "            # Stocker le perceptron entraîné\n",
    "            self.perceptrons[classe] = perceptron\n",
    "\n",
    "    def predict(self, X):\n",
    "        \"\"\"Prédit en utilisant le vote des perceptrons\"\"\"\n",
    "        if not self.perceptrons:\n",
    "            raise ValueError(\"Le modèle n'a pas été entraîné. Appelez fit() d'abord.\")\n",
    "\n",
    "        # TODO: Calculer les scores de tous les perceptrons\n",
    "        scores = np.zeros((X.shape[0], len(self.classes)))\n",
    "\n",
    "        for i, classe in enumerate(self.classes):\n",
    "            # Calculer la sommation pondérée (avant fonction d'activation)\n",
    "            # pour obtenir un score de confiance\n",
    "            perceptron = self.perceptrons[classe]\n",
    "            raw_scores = X.dot(perceptron.weights) + perceptron.bias\n",
    "            scores[:, i] = raw_scores\n",
    "\n",
    "        # TODO: Retourner la classe avec le score maximum\n",
    "        predicted_indices = np.argmax(scores, axis=1)\n",
    "        return self.classes[predicted_indices]\n",
    "\n",
    "    def predict_proba(self, X):\n",
    "        \"\"\"Retourne les scores de confiance pour chaque classe\"\"\"\n",
    "        if not self.perceptrons:\n",
    "            raise ValueError(\"Le modèle n'a pas été entraîné.\")\n",
    "\n",
    "        scores = np.zeros((X.shape[0], len(self.classes)))\n",
    "\n",
    "        for i, classe in enumerate(self.classes):\n",
    "            perceptron = self.perceptrons[classe]\n",
    "            raw_scores = X.dot(perceptron.weights) + perceptron.bias\n",
    "            scores[:, i] = raw_scores\n",
    "\n",
    "        return scores"
   ]
  },
  {
   "cell_type": "markdown",
   "id": "2575c2b9",
   "metadata": {},
   "source": [
    "-**Cohérence des prédictions : Que se passe-t-il si plusieurs perceptrons prédisent positivement pour le même exemple ?**  \n",
    "    Lorsqu'un exemple est prédit positivement par plusieurs perceptrons, il n'y a pas de conflit direct dans les prédictions. Cependant, cela peut poser des problèmes d'interprétation si l'on cherche à identifier la classe prédite.\n",
    "\n",
    "-**Gestion des ambiguïtés : Comment gérer le cas où aucun perceptron ne prédit positivement ?**  \n",
    "    Si aucun perceptron ne prédit positivement, cela signifie que l'exemple n'appartient à aucune des classes cibles. Dans ce cas, on peut soit le classer comme \"inconnu\", soit utiliser une approche probabiliste pour attribuer une classe basée sur les scores des perceptrons.\n",
    "    \n",
    "-**Équilibrage : Comment l'approche \"Un contre Tous\" gère-t-elle le déséquilibre naturel qu'elle crée ?**  \n",
    "    L'approche \"Un contre Tous\" peut exacerber le déséquilibre si certaines classes sont beaucoup plus fréquentes que d'autres. Pour atténuer ce problème, on peut utiliser des techniques de rééchantillonnage (oversampling/undersampling) ou ajuster les poids des classes dans la fonction de perte pour donner plus d'importance aux classes minoritaires."
   ]
  },
  {
   "cell_type": "markdown",
   "id": "86cccf52",
   "metadata": {},
   "source": [
    "# Exercice 10"
   ]
  },
  {
   "cell_type": "code",
   "execution_count": 23,
   "id": "4df8d643",
   "metadata": {},
   "outputs": [
    {
     "name": "stdout",
     "output_type": "stream",
     "text": [
      "Données binaires : 100 échantillons, 2 features\n",
      "Données complètes : 150 échantillons, 3 classes\n"
     ]
    },
    {
     "data": {
      "image/png": "[encoded data removed]",
      "text/plain": [
       "<Figure size 720x576 with 1 Axes>"
      ]
     },
     "metadata": {
      "needs_background": "light"
     },
     "output_type": "display_data"
    }
   ],
   "source": [
    "from sklearn.datasets import load_iris\n",
    "from sklearn.model_selection import train_test_split\n",
    "import matplotlib.pyplot as plt\n",
    "\n",
    "def charger_donnees_iris_binaire():\n",
    "    \"\"\"\n",
    "    Charge le dataset Iris en version binaire (2 classes) pour commencer\n",
    "    \"\"\"\n",
    "    # Chargement du dataset Iris\n",
    "    iris = load_iris()\n",
    "\n",
    "    # Ne garder que 2 features pour la visualisation\n",
    "    X = iris.data[:, [0, 2]]  # longueur des sépales et longueur des pétales\n",
    "    y = iris.target\n",
    "\n",
    "    # Ne garder que 2 classes pour commencer (Setosa vs Versicolor)\n",
    "    mask = y < 2\n",
    "    X_binary = X[mask]\n",
    "    y_binary = y[mask]\n",
    "    y_binary = 2 * y_binary - 1  # Convertir 0,1 en -1,1\n",
    "\n",
    "    return X_binary, y_binary\n",
    "\n",
    "def charger_donnees_iris_complete():\n",
    "    \"\"\"\n",
    "    Charge le dataset Iris complet avec les 3 classes\n",
    "    \"\"\"\n",
    "    iris = load_iris()\n",
    "    X = iris.data[:, [0, 2]]  # longueur des sépales et longueur des pétales\n",
    "    y = iris.target\n",
    "\n",
    "    return X, y, iris.target_names\n",
    "\n",
    "def visualiser_iris(X, y, target_names=None, title=\"Dataset Iris\"):\n",
    "    \"\"\"\n",
    "    Visualise le dataset Iris avec ses différentes classes\n",
    "    \"\"\"\n",
    "    plt.figure(figsize=(10, 8))\n",
    "\n",
    "    # Couleurs pour chaque classe\n",
    "    colors = ['red', 'blue', 'green']\n",
    "    markers = ['*', '+', 'o']\n",
    "\n",
    "    for i in range(len(np.unique(y))):\n",
    "        mask = (y == i)\n",
    "        label = target_names[i] if target_names is not None else f'Classe {i}'\n",
    "        plt.scatter(X[mask, 0], X[mask, 1], \n",
    "                   c=colors[i], marker=markers[i], s=100, \n",
    "                   label=label, alpha=0.7)\n",
    "\n",
    "    plt.xlabel('Longueur des sépales (cm)')\n",
    "    plt.ylabel('Longueur des pétales (cm)')\n",
    "    plt.title(title)\n",
    "    plt.legend()\n",
    "    plt.grid(True, alpha=0.3)\n",
    "    plt.show()\n",
    "\n",
    "# Test de la fonction\n",
    "if __name__ == \"__main__\":\n",
    "    # Version binaire d'abord\n",
    "    X_bin, y_bin = charger_donnees_iris_binaire()\n",
    "    print(f\"Données binaires : {X_bin.shape[0]} échantillons, {X_bin.shape[1]} features\")\n",
    "\n",
    "    # Version complète\n",
    "    X_full, y_full, noms = charger_donnees_iris_complete()\n",
    "    print(f\"Données complètes : {X_full.shape[0]} échantillons, {len(np.unique(y_full))} classes\")\n",
    "\n",
    "    # Visualisation\n",
    "    visualiser_iris(X_full, y_full, noms)"
   ]
  },
  {
   "cell_type": "markdown",
   "id": "a9433a06",
   "metadata": {},
   "source": [
    "# Exercice 11"
   ]
  },
  {
   "cell_type": "code",
   "execution_count": null,
   "id": "76d8a4da",
   "metadata": {},
   "outputs": [
    {
     "name": "stdout",
     "output_type": "stream",
     "text": [
      "Répartition des données :\n",
      "  - Entraînement : 52 échantillons\n",
      "  - Validation   : 53 échantillons\n",
      "  - Test         : 45 échantillons\n"
     ]
    },
    {
     "name": "stderr",
     "output_type": "stream",
     "text": [
      "Entraînement du perceptron: 100%|██████████| 100/100 [00:00<00:00, 9811.24it/s]\n",
      "Entraînement du perceptron: 100%|██████████| 100/100 [00:00<00:00, 4231.11it/s]\n",
      "Entraînement du perceptron: 100%|██████████| 100/100 [00:00<00:00, 7071.59it/s]\n",
      "Entraînement des perceptrons: 100%|██████████| 3/3 [00:00<00:00, 52.66it/s]"
     ]
    },
    {
     "name": "stdout",
     "output_type": "stream",
     "text": [
      "\n",
      "Performances :\n",
      "  - Accuracy train      : 0.846\n",
      "  - Accuracy validation : 0.755\n",
      "  - Accuracy test       : 0.778\n"
     ]
    },
    {
     "name": "stderr",
     "output_type": "stream",
     "text": [
      "\n"
     ]
    }
   ],
   "source": [
    "from sklearn.model_selection import train_test_split\n",
    "from sklearn.metrics import confusion_matrix, classification_report\n",
    "import seaborn as sns\n",
    "\n",
    "def evaluer_perceptron_multiclasse(X, y, target_names=None, test_size=0.3, val_size=0.5):\n",
    "    \"\"\"\n",
    "    Évalue le perceptron multi-classes avec une méthodologie rigoureuse\n",
    "    \"\"\"\n",
    "\n",
    "    # TODO: Diviser les données en train/validation/test\n",
    "    # Première division : train+val / test\n",
    "    X_temp, X_test, y_temp, y_test = train_test_split(\n",
    "        X, y, test_size=test_size, random_state=42, stratify=y\n",
    "    )\n",
    "\n",
    "    # Deuxième division : train / validation\n",
    "    X_train, X_val, y_train, y_val = train_test_split(\n",
    "        X_temp, y_temp, test_size=val_size, random_state=42, stratify=y_temp\n",
    "    )\n",
    "\n",
    "    print(f\"Répartition des données :\")\n",
    "    print(f\"  - Entraînement : {X_train.shape[0]} échantillons\")\n",
    "    print(f\"  - Validation   : {X_val.shape[0]} échantillons\") \n",
    "    print(f\"  - Test         : {X_test.shape[0]} échantillons\")\n",
    "\n",
    "    # TODO: Entraîner le perceptron multi-classes\n",
    "    perceptron_mc = PerceptronMultiClasse(learning_rate=0.1)\n",
    "    perceptron_mc.fit(X_train, y_train, max_epochs=100)\n",
    "\n",
    "    # L'ensemble de validation devrait être passé en paramètre de la fonction fit.\n",
    "    # Ainsi, à chaque epoch, vous pourrez tester les paramètres du modèle sur cet ensemble.\n",
    "    # À la fin de l'apprentissage, ...pprentissage, on restaure les paramètres dont le fit est le meilleur sur l'enssemble de validation\n",
    "\n",
    "    # TODO: Calculer les prédictions sur tous les ensembles\n",
    "    y_train_pred = perceptron_mc.predict(X_train)\n",
    "    y_val_pred = perceptron_mc.predict(X_val)\n",
    "    y_test_pred = perceptron_mc.predict(X_test)\n",
    "\n",
    "    # TODO: Calculer les métriques (accuracy, matrice de confusion)\n",
    "    accuracy_train = np.mean(y_train_pred == y_train)\n",
    "    accuracy_val = np.mean(y_val_pred == y_val)\n",
    "    accuracy_test = np.mean(y_test_pred == y_test)\n",
    "\n",
    "    print(f\"\\nPerformances :\")\n",
    "    print(f\"  - Accuracy train      : {accuracy_train:.3f}\")\n",
    "    print(f\"  - Accuracy validation : {accuracy_val:.3f}\")\n",
    "    print(f\"  - Accuracy test       : {accuracy_test:.3f}\")\n",
    "\n",
    "\n",
    "\n",
    "\n",
    "# Exemple d'utilisation avec le dataset Iris complet\n",
    "X, y, target_names = charger_donnees_iris_complete()\n",
    "evaluer_perceptron_multiclasse(X, y, target_names=target_names)"
   ]
  },
  {
   "cell_type": "markdown",
   "id": "41263a1f",
   "metadata": {},
   "source": [
    "-**Convergence : Dans quelles conditions le perceptron est-il garanti de converger ?**  \n",
    "    Le perceptron est garanti de converger si les données sont linéairement séparables. Cela signifie qu'il existe une hyperplan qui peut séparer les classes cibles sans erreur. Si les données ne sont pas séparables, le perceptron peut ne pas converger ou converger vers une solution sous-optimale.\n",
    "\n",
    "-**Initialisation : L'initialisation des poids influence-t-elle la solution finale ?**  \n",
    "    "
   ]
  }
 ],
 "metadata": {
  "kernelspec": {
   "display_name": "base",
   "language": "python",
   "name": "python3"
  },
  "language_info": {
   "codemirror_mode": {
    "name": "ipython",
    "version": 3
   },
   "file_extension": ".py",
   "mimetype": "text/x-python",
   "name": "python",
   "nbconvert_exporter": "python",
   "pygments_lexer": "ipython3",
   "version": "3.9.12"
  }
 },
 "nbformat": 4,
 "nbformat_minor": 5
}
